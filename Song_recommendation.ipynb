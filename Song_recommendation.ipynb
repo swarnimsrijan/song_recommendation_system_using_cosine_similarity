{
 "cells": [
  {
   "cell_type": "code",
   "execution_count": 1,
   "id": "7b58f0dc-e23f-4e76-99dc-e991f7014180",
   "metadata": {},
   "outputs": [],
   "source": [
    "import numpy as np\n",
    "import pandas as pd\n",
    "import matplotlib.pyplot as plt"
   ]
  },
  {
   "cell_type": "code",
   "execution_count": 3,
   "id": "67a2a09c-4ce4-4c87-8d8c-f60616e347bb",
   "metadata": {},
   "outputs": [
    {
     "data": {
      "text/html": [
       "<div>\n",
       "<style scoped>\n",
       "    .dataframe tbody tr th:only-of-type {\n",
       "        vertical-align: middle;\n",
       "    }\n",
       "\n",
       "    .dataframe tbody tr th {\n",
       "        vertical-align: top;\n",
       "    }\n",
       "\n",
       "    .dataframe thead th {\n",
       "        text-align: right;\n",
       "    }\n",
       "</style>\n",
       "<table border=\"1\" class=\"dataframe\">\n",
       "  <thead>\n",
       "    <tr style=\"text-align: right;\">\n",
       "      <th></th>\n",
       "      <th>artist</th>\n",
       "      <th>song</th>\n",
       "      <th>link</th>\n",
       "      <th>text</th>\n",
       "    </tr>\n",
       "  </thead>\n",
       "  <tbody>\n",
       "    <tr>\n",
       "      <th>0</th>\n",
       "      <td>ABBA</td>\n",
       "      <td>Ahe's My Kind Of Girl</td>\n",
       "      <td>/a/abba/ahes+my+kind+of+girl_20598417.html</td>\n",
       "      <td>Look at her face, it's a wonderful face  \\nAnd...</td>\n",
       "    </tr>\n",
       "    <tr>\n",
       "      <th>1</th>\n",
       "      <td>ABBA</td>\n",
       "      <td>Andante, Andante</td>\n",
       "      <td>/a/abba/andante+andante_20002708.html</td>\n",
       "      <td>Take it easy with me, please  \\nTouch me gentl...</td>\n",
       "    </tr>\n",
       "    <tr>\n",
       "      <th>2</th>\n",
       "      <td>ABBA</td>\n",
       "      <td>As Good As New</td>\n",
       "      <td>/a/abba/as+good+as+new_20003033.html</td>\n",
       "      <td>I'll never know why I had to go  \\nWhy I had t...</td>\n",
       "    </tr>\n",
       "    <tr>\n",
       "      <th>3</th>\n",
       "      <td>ABBA</td>\n",
       "      <td>Bang</td>\n",
       "      <td>/a/abba/bang_20598415.html</td>\n",
       "      <td>Making somebody happy is a question of give an...</td>\n",
       "    </tr>\n",
       "    <tr>\n",
       "      <th>4</th>\n",
       "      <td>ABBA</td>\n",
       "      <td>Bang-A-Boomerang</td>\n",
       "      <td>/a/abba/bang+a+boomerang_20002668.html</td>\n",
       "      <td>Making somebody happy is a question of give an...</td>\n",
       "    </tr>\n",
       "  </tbody>\n",
       "</table>\n",
       "</div>"
      ],
      "text/plain": [
       "  artist                   song                                        link  \\\n",
       "0   ABBA  Ahe's My Kind Of Girl  /a/abba/ahes+my+kind+of+girl_20598417.html   \n",
       "1   ABBA       Andante, Andante       /a/abba/andante+andante_20002708.html   \n",
       "2   ABBA         As Good As New        /a/abba/as+good+as+new_20003033.html   \n",
       "3   ABBA                   Bang                  /a/abba/bang_20598415.html   \n",
       "4   ABBA       Bang-A-Boomerang      /a/abba/bang+a+boomerang_20002668.html   \n",
       "\n",
       "                                                text  \n",
       "0  Look at her face, it's a wonderful face  \\nAnd...  \n",
       "1  Take it easy with me, please  \\nTouch me gentl...  \n",
       "2  I'll never know why I had to go  \\nWhy I had t...  \n",
       "3  Making somebody happy is a question of give an...  \n",
       "4  Making somebody happy is a question of give an...  "
      ]
     },
     "execution_count": 3,
     "metadata": {},
     "output_type": "execute_result"
    }
   ],
   "source": [
    "df = pd.read_csv('songdata.csv')\n",
    "df.head()"
   ]
  },
  {
   "cell_type": "code",
   "execution_count": 4,
   "id": "5c799a9d-1f31-47f2-9b36-98943412776b",
   "metadata": {},
   "outputs": [
    {
     "name": "stdout",
     "output_type": "stream",
     "text": [
      "<class 'pandas.core.frame.DataFrame'>\n",
      "RangeIndex: 57650 entries, 0 to 57649\n",
      "Data columns (total 4 columns):\n",
      " #   Column  Non-Null Count  Dtype \n",
      "---  ------  --------------  ----- \n",
      " 0   artist  57650 non-null  object\n",
      " 1   song    57650 non-null  object\n",
      " 2   link    57650 non-null  object\n",
      " 3   text    57650 non-null  object\n",
      "dtypes: object(4)\n",
      "memory usage: 1.8+ MB\n"
     ]
    }
   ],
   "source": [
    "df.info()"
   ]
  },
  {
   "cell_type": "code",
   "execution_count": 5,
   "id": "9db1c7a3-a91e-4b69-94a3-af48a2c77ce4",
   "metadata": {},
   "outputs": [
    {
     "data": {
      "text/plain": [
       "(57650, 4)"
      ]
     },
     "execution_count": 5,
     "metadata": {},
     "output_type": "execute_result"
    }
   ],
   "source": [
    "df.shape"
   ]
  },
  {
   "cell_type": "code",
   "execution_count": 10,
   "id": "eb06bc01-1010-440a-8c2b-f02964be787b",
   "metadata": {},
   "outputs": [],
   "source": [
    "df = df.sample(n=5000).drop('link', axis = 1).reset_index(drop=True)"
   ]
  },
  {
   "cell_type": "code",
   "execution_count": 12,
   "id": "a723d2f1-fb3f-4c7d-84cd-4d756ac49494",
   "metadata": {},
   "outputs": [
    {
     "data": {
      "text/plain": [
       "0                   Breaking News\n",
       "1                        Stealin'\n",
       "2            Do What You Gotta Do\n",
       "3                            Suha\n",
       "4                           A Way\n",
       "                  ...            \n",
       "4995               Always A Woman\n",
       "4996             Cheap Sunglasses\n",
       "4997                     All I Do\n",
       "4998            The Facts Of Love\n",
       "4999    Put Your Hand In The Hand\n",
       "Name: song, Length: 5000, dtype: object"
      ]
     },
     "execution_count": 12,
     "metadata": {},
     "output_type": "execute_result"
    }
   ],
   "source": [
    "# Cleaning the dataset\n",
    "df['song']"
   ]
  },
  {
   "cell_type": "code",
   "execution_count": 13,
   "id": "988d269f-13a7-4652-8b17-e74cb543bb6e",
   "metadata": {},
   "outputs": [
    {
     "data": {
      "text/plain": [
       "\"Everybody wanting a piece of Michael Jackson  \\nReporters stalking the moves of Michael Jackson  \\nJust when you thought he was done,  \\nHe comes to give it again  \\nThey can put around the world today  \\nHe wanna write my obituary  \\n  \\nNo matter what, you just wanna read it again  \\nNo matter what, you just wanna feed it again  \\n  \\nWhy is it strange that I would fall in love (fall in love)  \\nWho is that boogie man you're thinkin' of (thinkin' of)  \\nOr am I crazy cause I just eloped  \\nThis is breaking news  \\nThis is breaking news  \\n  \\nEverybody watching the news on Michael Jackson  \\nThey wanna see that I fall cause I'm Michael Jackson  \\nYou write the words to destroy like it's a weapon  \\nYou turned your back on the love and you can't get it again  \\n  \\nNo matter what, you just want to read it again  \\nNo matter what, you just want to feed it again  \\n  \\nWhy is it strange that I would fall in love (fall in love)  \\nWho is that boogie man you're thinkin' of (your thinkin' of)  \\nOr am I crazy cause I just eloped  \\nThis is breaking news  \\nThis is breaking news  \\n  \\nWhy is it strange that I would fall in love  \\nWho is that boogie man you're thinkin' of  \\nOr am I crazy cause I just eloped  \\nThis is breaking news  \\nThis is breaking news  \\n  \\nOn the news today they say we're crazy celebrity  \\nAnd on the screen today we're on display  \\nBaby  \\n  \\nWhy is it strange that I would fall in love (why is it strange)  \\nWho is that boogie man you're thinkin' of  \\nOr am I crazy cause I just eloped  \\nThis is breaking news  \\nThis is breaking news  \\n  \\nWhy is it strange that I would fall in love  \\nWho is that boogie man you're thinkin' of (you keep on breaking)  \\nOr am I crazy cause I just eloped  \\nThis is breaking news  \\nThis is breaking news  \\n  \\nYou're breaking the news!\\n\\n\""
      ]
     },
     "execution_count": 13,
     "metadata": {},
     "output_type": "execute_result"
    }
   ],
   "source": [
    "df['text'][0]"
   ]
  },
  {
   "cell_type": "code",
   "execution_count": 21,
   "id": "2165c51a-b9dd-4a90-a6da-a996d4498747",
   "metadata": {},
   "outputs": [
    {
     "data": {
      "text/plain": [
       "0       everybody wanting a piece of michael jackson  ...\n",
       "1       well, put your arms around me like the circles...\n",
       "2       sometimes you've got to take the heat   if you...\n",
       "3       black lung got you down tonight   saving it al...\n",
       "4       [verse 1]   caught in a dream of where   i wan...\n",
       "                              ...                        \n",
       "4995    she can kill with a smile, she can wound with ...\n",
       "4996    when you get up in the morning and the light i...\n",
       "4997    you made my soul a burning fire   you're getti...\n",
       "4998    you know they say that one hand washes the oth...\n",
       "4999    put your hand in the hand of the man who still...\n",
       "Name: text, Length: 5000, dtype: object"
      ]
     },
     "execution_count": 21,
     "metadata": {},
     "output_type": "execute_result"
    }
   ],
   "source": [
    "df['text'].str.lower().replace(r'[^a-zA-Z0-9]','').replace(r'\\n', ' ',regex = True)"
   ]
  },
  {
   "cell_type": "code",
   "execution_count": 28,
   "id": "eef1232c-7d9e-40aa-a427-526028003474",
   "metadata": {},
   "outputs": [
    {
     "name": "stdout",
     "output_type": "stream",
     "text": [
      "Requirement already satisfied: nltk in c:\\users\\1142s\\anaconda3\\envs\\use_tensorflow\\lib\\site-packages (3.8.1)\n",
      "Requirement already satisfied: click in c:\\users\\1142s\\anaconda3\\envs\\use_tensorflow\\lib\\site-packages (from nltk) (8.1.7)\n",
      "Requirement already satisfied: joblib in c:\\users\\1142s\\anaconda3\\envs\\use_tensorflow\\lib\\site-packages (from nltk) (1.4.2)\n",
      "Requirement already satisfied: regex>=2021.8.3 in c:\\users\\1142s\\anaconda3\\envs\\use_tensorflow\\lib\\site-packages (from nltk) (2024.7.24)\n",
      "Requirement already satisfied: tqdm in c:\\users\\1142s\\anaconda3\\envs\\use_tensorflow\\lib\\site-packages (from nltk) (4.66.4)\n",
      "Requirement already satisfied: colorama in c:\\users\\1142s\\anaconda3\\envs\\use_tensorflow\\lib\\site-packages (from click->nltk) (0.4.6)\n",
      "Note: you may need to restart the kernel to use updated packages.\n"
     ]
    }
   ],
   "source": [
    "pip install nltk\n"
   ]
  },
  {
   "cell_type": "code",
   "execution_count": 27,
   "id": "9f7ffb0d-6bc1-4e45-a8ea-a069b4ef1afd",
   "metadata": {},
   "outputs": [
    {
     "name": "stdout",
     "output_type": "stream",
     "text": [
      "Requirement already satisfied: pip in c:\\users\\1142s\\anaconda3\\envs\\use_tensorflow\\lib\\site-packages (24.1.2)\n",
      "Collecting pip\n",
      "  Downloading pip-24.2-py3-none-any.whl.metadata (3.6 kB)\n",
      "Downloading pip-24.2-py3-none-any.whl (1.8 MB)\n",
      "   ---------------------------------------- 0.0/1.8 MB ? eta -:--:--\n",
      "   - -------------------------------------- 0.1/1.8 MB 1.7 MB/s eta 0:00:02\n",
      "   - -------------------------------------- 0.1/1.8 MB 1.7 MB/s eta 0:00:02\n",
      "   ----- ---------------------------------- 0.2/1.8 MB 2.4 MB/s eta 0:00:01\n",
      "   ----------- ---------------------------- 0.5/1.8 MB 3.6 MB/s eta 0:00:01\n",
      "   ------------------ --------------------- 0.8/1.8 MB 4.9 MB/s eta 0:00:01\n",
      "   ----------------------- ---------------- 1.1/1.8 MB 4.9 MB/s eta 0:00:01\n",
      "   ------------------------------------ --- 1.6/1.8 MB 6.1 MB/s eta 0:00:01\n",
      "   ---------------------------------------  1.8/1.8 MB 6.0 MB/s eta 0:00:01\n",
      "   ---------------------------------------- 1.8/1.8 MB 5.2 MB/s eta 0:00:00\n",
      "Installing collected packages: pip\n",
      "  Attempting uninstall: pip\n",
      "    Found existing installation: pip 24.1.2\n",
      "    Uninstalling pip-24.1.2:\n",
      "      Successfully uninstalled pip-24.1.2\n",
      "Successfully installed pip-24.2\n",
      "Note: you may need to restart the kernel to use updated packages.\n"
     ]
    }
   ],
   "source": []
  },
  {
   "cell_type": "code",
   "execution_count": 33,
   "id": "c18a7386-2a46-40f6-ab79-ad7094e7f72e",
   "metadata": {},
   "outputs": [
    {
     "name": "stderr",
     "output_type": "stream",
     "text": [
      "[nltk_data] Downloading package punkt to\n",
      "[nltk_data]     C:\\Users\\1142s\\AppData\\Roaming\\nltk_data...\n",
      "[nltk_data]   Unzipping tokenizers\\punkt.zip.\n"
     ]
    }
   ],
   "source": [
    "# Stemming\n",
    "import nltk\n",
    "nltk.download('punkt')\n",
    "from nltk.stem.porter import PorterStemmer\n",
    "\n",
    "ps = PorterStemmer()\n",
    "\n",
    "def tokenization(txt):\n",
    "    tokens = nltk.word_tokenize(txt)\n",
    "    stemming = [ps.stem(w) for w in tokens]\n",
    "    return \" \".join(stemming)\n"
   ]
  },
  {
   "cell_type": "code",
   "execution_count": 34,
   "id": "dce971b5-d6eb-434e-9943-7e4a46daa84b",
   "metadata": {},
   "outputs": [
    {
     "data": {
      "text/plain": [
       "'thi is my word love love'"
      ]
     },
     "execution_count": 34,
     "metadata": {},
     "output_type": "execute_result"
    }
   ],
   "source": [
    "# example function\n",
    "tokenization('this is my word loving loved')"
   ]
  },
  {
   "cell_type": "code",
   "execution_count": 35,
   "id": "5a08c944-3a78-4504-8a75-b06500fac0e7",
   "metadata": {},
   "outputs": [],
   "source": [
    "df['text'] = df['text'].apply(lambda x: tokenization(x))"
   ]
  },
  {
   "cell_type": "code",
   "execution_count": 36,
   "id": "1b374305-fda9-4fb2-ba27-98f5c205e4f3",
   "metadata": {},
   "outputs": [
    {
     "data": {
      "text/plain": [
       "0       everybodi want a piec of michael jackson repor...\n",
       "1       well , put your arm around me like the circl i...\n",
       "2       sometim you 've got to take the heat if you 'r...\n",
       "3       black lung got you down tonight save it all fo...\n",
       "4       [ vers 1 ] caught in a dream of where i want t...\n",
       "                              ...                        \n",
       "4995    she can kill with a smile , she can wound with...\n",
       "4996    when you get up in the morn and the light is h...\n",
       "4997    you made my soul a burn fire you 're get to be...\n",
       "4998    you know they say that one hand wash the other...\n",
       "4999    put your hand in the hand of the man who still...\n",
       "Name: text, Length: 5000, dtype: object"
      ]
     },
     "execution_count": 36,
     "metadata": {},
     "output_type": "execute_result"
    }
   ],
   "source": [
    "df['text']"
   ]
  },
  {
   "cell_type": "code",
   "execution_count": 40,
   "id": "6e6c15fc-906c-43dc-b7b7-9acf1e323f44",
   "metadata": {},
   "outputs": [],
   "source": [
    "from sklearn.feature_extraction.text import TfidfVectorizer\n",
    "from sklearn.metrics.pairwise import cosine_similarity"
   ]
  },
  {
   "cell_type": "code",
   "execution_count": 41,
   "id": "158dff43-e123-4f35-82bc-a365ea426fa6",
   "metadata": {},
   "outputs": [],
   "source": [
    "tfid = TfidfVectorizer(stop_words = 'english')\n",
    "matrix = tfid.fit_transform(df['text'])"
   ]
  },
  {
   "cell_type": "code",
   "execution_count": 42,
   "id": "319f870b-3157-422e-b510-282dedb2843e",
   "metadata": {},
   "outputs": [
    {
     "data": {
      "text/plain": [
       "(5000, 17391)"
      ]
     },
     "execution_count": 42,
     "metadata": {},
     "output_type": "execute_result"
    }
   ],
   "source": [
    "matrix.shape"
   ]
  },
  {
   "cell_type": "code",
   "execution_count": 43,
   "id": "4ba78a50-47dd-4174-8e82-a79d06bbd93d",
   "metadata": {},
   "outputs": [
    {
     "data": {
      "text/plain": [
       "array([[1.        , 0.01442244, 0.06046386, ..., 0.04084016, 0.03915447,\n",
       "        0.03555925],\n",
       "       [0.01442244, 1.        , 0.04059358, ..., 0.09764572, 0.06148046,\n",
       "        0.04192381],\n",
       "       [0.06046386, 0.04059358, 1.        , ..., 0.09161922, 0.13190096,\n",
       "        0.02214415],\n",
       "       ...,\n",
       "       [0.04084016, 0.09764572, 0.09161922, ..., 1.        , 0.12769288,\n",
       "        0.0187056 ],\n",
       "       [0.03915447, 0.06148046, 0.13190096, ..., 0.12769288, 1.        ,\n",
       "        0.06409451],\n",
       "       [0.03555925, 0.04192381, 0.02214415, ..., 0.0187056 , 0.06409451,\n",
       "        1.        ]])"
      ]
     },
     "execution_count": 43,
     "metadata": {},
     "output_type": "execute_result"
    }
   ],
   "source": [
    "similarity = cosine_similarity(matrix)\n",
    "similarity"
   ]
  },
  {
   "cell_type": "code",
   "execution_count": 50,
   "id": "6b488e5c-6ede-414f-9cc0-632066cffe53",
   "metadata": {},
   "outputs": [],
   "source": [
    "def recommendation(song):\n",
    "    idx = df[df['song'] == song].index[0]\n",
    "    distances = sorted(list(enumerate(similarity[idx])), reverse = False, key = lambda x:x[1])\n",
    "    \n",
    "    songs = []\n",
    "    for i in distances[1: 21]:\n",
    "        songs.append(df.iloc[i[0]].song)\n",
    "    return songs"
   ]
  },
  {
   "cell_type": "code",
   "execution_count": 52,
   "id": "69c56a8a-b06a-4aee-b8f9-3a695693fe82",
   "metadata": {},
   "outputs": [
    {
     "data": {
      "text/plain": [
       "['Amazing Grace',\n",
       " 'All I Ask',\n",
       " 'Rock Your Baby',\n",
       " 'Clean Up Before She Comes',\n",
       " 'Man Of The House',\n",
       " 'Freestyle 2',\n",
       " 'A Night In The Life Of A Blues Singer',\n",
       " 'Aikendrum',\n",
       " 'Paperbag Writer',\n",
       " \"Pawn Shop Ain't No Place For A Wedding Ring\",\n",
       " 'Adeste Fideles (O Come All Ye Faithful)',\n",
       " \"I'm Not Sleeping\",\n",
       " 'In Our Sleep',\n",
       " 'Got A Lot To Say',\n",
       " 'Se Te Ne Vai (Si Tu Te Vas)',\n",
       " 'Am I To Believe?',\n",
       " 'Bare Trees',\n",
       " 'Black Sabbath',\n",
       " 'National Anthem',\n",
       " 'Bicycle Built For Two (version 2)']"
      ]
     },
     "execution_count": 52,
     "metadata": {},
     "output_type": "execute_result"
    }
   ],
   "source": [
    "recommendation('A Way')"
   ]
  },
  {
   "cell_type": "code",
   "execution_count": 57,
   "id": "64dcf19e-8cc7-4e5d-9b59-7c9231cfed3b",
   "metadata": {},
   "outputs": [],
   "source": [
    "import pickle\n",
    "\n",
    "# Replace df and similarity with your actual data variables\n",
    "pickle.dump(df, open('df.pkl', 'wb'))\n",
    "pickle.dump(similarity, open('similarity.pkl', 'wb'))\n"
   ]
  }
 ],
 "metadata": {
  "kernelspec": {
   "display_name": "Python 3 (ipykernel)",
   "language": "python",
   "name": "python3"
  },
  "language_info": {
   "codemirror_mode": {
    "name": "ipython",
    "version": 3
   },
   "file_extension": ".py",
   "mimetype": "text/x-python",
   "name": "python",
   "nbconvert_exporter": "python",
   "pygments_lexer": "ipython3",
   "version": "3.9.19"
  }
 },
 "nbformat": 4,
 "nbformat_minor": 5
}
